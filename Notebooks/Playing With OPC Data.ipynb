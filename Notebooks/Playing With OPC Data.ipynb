{
 "cells": [
  {
   "cell_type": "code",
   "execution_count": 3,
   "source": [
    "import datetime\n",
    "#import manage_db\n",
    "Data = [('CutDrumActTorq','1.01','Good','01/02/2021'),\n",
    "            ('CutDrumActCurr','4','Good','01/02/2021'),\n",
    "            ('PusherLeftActTorq','0.22','Good','01/02/2021'),\n",
    "            ('PusherLeftActCurr','1.5','Good','01/02/2021'),\n",
    "            ('PusherRightActTorq','2.5','Good','01/02/2021'),\n",
    "            ('PusherRightActCurr','10.7','Good','01/02/2021'),\n",
    "            ('PusherCentralActTorq','2.0','Good','01/02/2021'),\n",
    "            ('PusherCentralActCurr','15.1','Good','01/02/2021'),\n",
    "            ('PusherWheel1ActTorq','0.3','Good','01/02/2021'),\n",
    "            ('PusherWheel1ActCurr','3.1','Good','01/02/2021'),\n",
    "            ('Machine Speed','100','Good','01/02/2021'),\n",
    "            ('Machine State','0','Good','01/02/2021')]\n",
    "\n",
    "drive_tuple = ('Cut Drum','Pusher Left', 'Pusher Right', 'Pusher Central', 'Pusher Wheel 1')"
   ],
   "outputs": [],
   "metadata": {}
  },
  {
   "cell_type": "code",
   "execution_count": 2,
   "source": [
    "def get_timestamp():\n",
    "    return datetime.datetime.now().strftime('%Y/%m/%d %H:%M:%S')"
   ],
   "outputs": [],
   "metadata": {}
  },
  {
   "cell_type": "code",
   "execution_count": 1,
   "source": [
    "def get_machine_name():\n",
    "    return 'FlexA5'"
   ],
   "outputs": [],
   "metadata": {}
  },
  {
   "cell_type": "code",
   "execution_count": 7,
   "source": [
    "result = []\n",
    "additional_data =get_machine_name(), get_timestamp()\n",
    "# Проходимся по полученным данным и вытаскиваем нужные элементы в виде tuple. (Data[i],) = Data[1:2]\n",
    "for index in range(1,len(Data)-2,2):\n",
    "    result.append(additional_data + Data[index-1][1:2] + Data[index][1:2] + Data[-2:][0][1:2]+ Data[-2:][1][1:2])\n",
    "\n",
    "for i in zip(drive_tuple,result):\n",
    "    res = (i[0:1] + i[1])\n",
    "    print(res)"
   ],
   "outputs": [
    {
     "output_type": "stream",
     "name": "stdout",
     "text": [
      "('Cut Drum', 'FlexA5', '2021/09/12 11:51:42', '1.01', '4', '100', '0')\n",
      "('Pusher Left', 'FlexA5', '2021/09/12 11:51:42', '0.22', '1.5', '100', '0')\n",
      "('Pusher Right', 'FlexA5', '2021/09/12 11:51:42', '2.5', '10.7', '100', '0')\n",
      "('Pusher Central', 'FlexA5', '2021/09/12 11:51:42', '2.0', '15.1', '100', '0')\n",
      "('Pusher Wheel 1', 'FlexA5', '2021/09/12 11:51:42', '0.3', '3.1', '100', '0')\n"
     ]
    }
   ],
   "metadata": {}
  },
  {
   "cell_type": "code",
   "execution_count": 5,
   "source": [
    "drive_query = {'Cut Drum':['CutDrumActTorq','CutDrumActCurr'],\n",
    "                'Pusher Left':['PusherLeftActTorq','PusherLeftActCurr'],\n",
    "                'Pusher Right':['PusherRightActTorq','PusherRightActCurr'],\n",
    "                'Pusher Central':['PusherCentralActTorq','PusherCentralActCurr'],\n",
    "                'Pusher Wheel 1':['PusherWheel1ActTorq','PusherWheel1ActCurr'],\n",
    "                'Machine Data':['Speed','Status']}"
   ],
   "outputs": [],
   "metadata": {}
  },
  {
   "cell_type": "code",
   "execution_count": 6,
   "source": [
    "result_q = []\n",
    "for i in drive_query:\n",
    "    result_q.extend(drive_query[i])\n",
    "print(result_q)"
   ],
   "outputs": [
    {
     "output_type": "stream",
     "name": "stdout",
     "text": [
      "['CutDrumActTorq', 'CutDrumActCurr', 'PusherLeftActTorq', 'PusherLeftActCurr', 'PusherRightActTorq', 'PusherRightActCurr', 'PusherCentralActTorq', 'PusherCentralActCurr', 'PusherWheel1ActTorq', 'PusherWheel1ActCurr', 'Speed', 'Status']\n"
     ]
    }
   ],
   "metadata": {}
  },
  {
   "cell_type": "code",
   "execution_count": 7,
   "source": [
    "values = []\n",
    "for item in Data:\n",
    "    values.append(item[1])\n",
    "a = dict(zip(result_q,values))\n",
    "print(a)"
   ],
   "outputs": [
    {
     "output_type": "stream",
     "name": "stdout",
     "text": [
      "{'CutDrumActTorq': '1.01', 'CutDrumActCurr': '4', 'PusherLeftActTorq': '0.22', 'PusherLeftActCurr': '1.5', 'PusherRightActTorq': '2.5', 'PusherRightActCurr': '10.7', 'PusherCentralActTorq': '2.0', 'PusherCentralActCurr': '15.1', 'PusherWheel1ActTorq': '0.3', 'PusherWheel1ActCurr': '3.1', 'Speed': '100', 'Status': '0'}\n"
     ]
    }
   ],
   "metadata": {}
  }
 ],
 "metadata": {
  "orig_nbformat": 4,
  "language_info": {
   "name": "python",
   "version": "3.8.10",
   "mimetype": "text/x-python",
   "codemirror_mode": {
    "name": "ipython",
    "version": 3
   },
   "pygments_lexer": "ipython3",
   "nbconvert_exporter": "python",
   "file_extension": ".py"
  },
  "kernelspec": {
   "name": "python3",
   "display_name": "Python 3.8.10 64-bit"
  },
  "interpreter": {
   "hash": "31f2aee4e71d21fbe5cf8b01ff0e069b9275f58929596ceb00d14d90e3e16cd6"
  }
 },
 "nbformat": 4,
 "nbformat_minor": 2
}