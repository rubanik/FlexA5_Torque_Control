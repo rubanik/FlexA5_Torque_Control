{
 "cells": [
  {
   "cell_type": "code",
   "execution_count": 2,
   "source": [
    "import datetime\r\n",
    "#import manage_db\r\n",
    "Data = [('CutDrumActTorq','1.01','Good','01/02/2021'),\r\n",
    "            ('CutDrumActCurr','4','Good','01/02/2021'),\r\n",
    "            ('PusherLeftActTorq','0.22','Good','01/02/2021'),\r\n",
    "            ('PusherLeftActCurr','1.5','Good','01/02/2021'),\r\n",
    "            ('PusherRightActTorq','2.5','Good','01/02/2021'),\r\n",
    "            ('PusherRightActCurr','10.7','Good','01/02/2021'),\r\n",
    "            ('PusherCentralActTorq','2.0','Good','01/02/2021'),\r\n",
    "            ('PusherCentralActCurr','15.1','Good','01/02/2021'),\r\n",
    "            ('PusherWheel1ActTorq','0.3','Good','01/02/2021'),\r\n",
    "            ('PusherWheel1ActCurr','3.1','Good','01/02/2021'),\r\n",
    "            ('Machine Speed','100','Good','01/02/2021'),\r\n",
    "            ('Machine State','0','Good','01/02/2021')]\r\n",
    "\r\n",
    "drive_tuple = ('Cut Drum','Pusher Left', 'Pusher Right', 'Pusher Central', 'Pusher Wheel 1')"
   ],
   "outputs": [],
   "metadata": {}
  },
  {
   "cell_type": "code",
   "execution_count": 3,
   "source": [
    "def get_timestamp():\r\n",
    "    return datetime.datetime.now().strftime('%Y/%m/%d %H:%M:%S')"
   ],
   "outputs": [],
   "metadata": {}
  },
  {
   "cell_type": "code",
   "execution_count": 4,
   "source": [
    "def get_machine_name():\r\n",
    "    return 'FlexA5'"
   ],
   "outputs": [],
   "metadata": {}
  },
  {
   "cell_type": "markdown",
   "source": [
    "# Версия 1"
   ],
   "metadata": {}
  },
  {
   "cell_type": "code",
   "execution_count": 5,
   "source": [
    "result = []\r\n",
    "# Проходимся по полученным данным и вытаскиваем нужные элементы в виде tuple. (Data[i],) = Data[1:2]\r\n",
    "for index in range(1,len(Data)-2,2):\r\n",
    "    result.append(Data[index-1][1:2] + Data[index][1:2] + Data[-2:][0][1:2]+ Data[-2:][1][1:2])\r\n",
    "\r\n",
    "# Additional data - храним там время и название машины\r\n",
    "additional_data = get_timestamp(),get_machine_name()\r\n",
    "for i in zip(drive_tuple,result):\r\n",
    "    res = (additional_data + i[0:1] + i[1])\r\n",
    "    print(res)"
   ],
   "outputs": [
    {
     "output_type": "stream",
     "name": "stdout",
     "text": [
      "('2021/09/13 20:40:53', 'FlexA5', 'Cut Drum', '1.01', '4', '100', '0')\n",
      "('2021/09/13 20:40:53', 'FlexA5', 'Pusher Left', '0.22', '1.5', '100', '0')\n",
      "('2021/09/13 20:40:53', 'FlexA5', 'Pusher Right', '2.5', '10.7', '100', '0')\n",
      "('2021/09/13 20:40:53', 'FlexA5', 'Pusher Central', '2.0', '15.1', '100', '0')\n",
      "('2021/09/13 20:40:53', 'FlexA5', 'Pusher Wheel 1', '0.3', '3.1', '100', '0')\n"
     ]
    }
   ],
   "metadata": {}
  },
  {
   "cell_type": "markdown",
   "source": [
    "# Версия 2.\r\n",
    "\r\n",
    "Здесь, попытка как-то разложить всё по словарю... Но что дальше делать не понятно.\r\n"
   ],
   "metadata": {}
  },
  {
   "cell_type": "code",
   "execution_count": 6,
   "source": [
    "drive_query = {'Cut Drum':['CutDrumActTorq','CutDrumActCurr'],\r\n",
    "                'Pusher Left':['PusherLeftActTorq','PusherLeftActCurr'],\r\n",
    "                'Pusher Right':['PusherRightActTorq','PusherRightActCurr'],\r\n",
    "                'Pusher Central':['PusherCentralActTorq','PusherCentralActCurr'],\r\n",
    "                'Pusher Wheel 1':['PusherWheel1ActTorq','PusherWheel1ActCurr'],\r\n",
    "                'Machine Data':['Speed','Status']}"
   ],
   "outputs": [],
   "metadata": {}
  },
  {
   "cell_type": "code",
   "execution_count": 7,
   "source": [
    "result_q = []\r\n",
    "for i in drive_query:\r\n",
    "    result_q.extend(drive_query[i])\r\n",
    "print(result_q)"
   ],
   "outputs": [
    {
     "output_type": "stream",
     "name": "stdout",
     "text": [
      "['CutDrumActTorq', 'CutDrumActCurr', 'PusherLeftActTorq', 'PusherLeftActCurr', 'PusherRightActTorq', 'PusherRightActCurr', 'PusherCentralActTorq', 'PusherCentralActCurr', 'PusherWheel1ActTorq', 'PusherWheel1ActCurr', 'Speed', 'Status']\n"
     ]
    }
   ],
   "metadata": {}
  },
  {
   "cell_type": "code",
   "execution_count": 8,
   "source": [
    "values = []\r\n",
    "for item in Data:\r\n",
    "    values.append(item[1])\r\n",
    "a = dict(zip(result_q,values))\r\n",
    "print(a)"
   ],
   "outputs": [
    {
     "output_type": "stream",
     "name": "stdout",
     "text": [
      "{'CutDrumActTorq': '1.01', 'CutDrumActCurr': '4', 'PusherLeftActTorq': '0.22', 'PusherLeftActCurr': '1.5', 'PusherRightActTorq': '2.5', 'PusherRightActCurr': '10.7', 'PusherCentralActTorq': '2.0', 'PusherCentralActCurr': '15.1', 'PusherWheel1ActTorq': '0.3', 'PusherWheel1ActCurr': '3.1', 'Speed': '100', 'Status': '0'}\n"
     ]
    }
   ],
   "metadata": {}
  },
  {
   "cell_type": "markdown",
   "source": [
    "# Playing with Generator..."
   ],
   "metadata": {}
  },
  {
   "cell_type": "code",
   "execution_count": 9,
   "source": [
    "def some():\r\n",
    "    for item in Data:\r\n",
    "        yield item[1]\r\n",
    "    "
   ],
   "outputs": [],
   "metadata": {}
  },
  {
   "cell_type": "code",
   "execution_count": 11,
   "source": [
    "count = 0\r\n",
    "pair = []\r\n",
    "out = []\r\n",
    "for part in some():\r\n",
    "# Вся херня разбивается на пары момент - ток, по положению в Data. если находим \r\n",
    "# Нечетную позицию - просто добавляем в лист Пары, если нашли чётную позицию то добавзяем в Пары, копируем из пар в итоговый список\r\n",
    "    if count%2 != 0:\r\n",
    "        pair.append(part)\r\n",
    "        out.append(tuple(pair.copy()))\r\n",
    "        pair.clear() \r\n",
    "    else:\r\n",
    "        pair.append(part)\r\n",
    "    count+=1\r\n",
    "\r\n",
    "out_2 = []\r\n",
    "date_mach = get_timestamp(),get_machine_name()\r\n",
    "\r\n",
    "for ind,part in enumerate(out,0):\r\n",
    "    if ind < len(out)-1:\r\n",
    "        part = date_mach +(drive_tuple[ind],) + part + out[-1]\r\n",
    "        out_2.append(part)\r\n",
    "\r\n",
    "for i in out_2:\r\n",
    "    print(i)\r\n"
   ],
   "outputs": [
    {
     "output_type": "stream",
     "name": "stdout",
     "text": [
      "('2021/09/13 20:41:02', 'FlexA5', 'Cut Drum', '1.01', '4', '100', '0')\n",
      "('2021/09/13 20:41:02', 'FlexA5', 'Pusher Left', '0.22', '1.5', '100', '0')\n",
      "('2021/09/13 20:41:02', 'FlexA5', 'Pusher Right', '2.5', '10.7', '100', '0')\n",
      "('2021/09/13 20:41:02', 'FlexA5', 'Pusher Central', '2.0', '15.1', '100', '0')\n",
      "('2021/09/13 20:41:02', 'FlexA5', 'Pusher Wheel 1', '0.3', '3.1', '100', '0')\n"
     ]
    }
   ],
   "metadata": {}
  },
  {
   "cell_type": "code",
   "execution_count": null,
   "source": [],
   "outputs": [],
   "metadata": {}
  },
  {
   "cell_type": "code",
   "execution_count": null,
   "source": [],
   "outputs": [],
   "metadata": {}
  }
 ],
 "metadata": {
  "orig_nbformat": 4,
  "language_info": {
   "name": "python",
   "version": "3.9.5",
   "mimetype": "text/x-python",
   "codemirror_mode": {
    "name": "ipython",
    "version": 3
   },
   "pygments_lexer": "ipython3",
   "nbconvert_exporter": "python",
   "file_extension": ".py"
  },
  "kernelspec": {
   "name": "python3",
   "display_name": "Python 3.9.5 64-bit"
  },
  "interpreter": {
   "hash": "5838e27ae6e5f63883f9eb8ce03f648aa46f55c4439c50397998ab079e7b8c68"
  }
 },
 "nbformat": 4,
 "nbformat_minor": 2
}